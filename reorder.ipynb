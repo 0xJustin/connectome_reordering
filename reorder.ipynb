{
 "cells": [
  {
   "cell_type": "code",
   "execution_count": 1,
   "metadata": {},
   "outputs": [],
   "source": [
    "import polars as pl\n",
    "import numpy as np\n",
    "\n",
    "# Load the data\n",
    "df = pl.read_csv('./connectome_graph.csv')\n",
    "\n",
    "# Extract arrays\n",
    "source_nodes = df[df.columns[0]].to_numpy().astype(np.int64)\n",
    "target_nodes = df[df.columns[1]].to_numpy().astype(np.int64)\n",
    "edge_weights = df[df.columns[2]].to_numpy().astype(np.int64)\n"
   ]
  },
  {
   "cell_type": "code",
   "execution_count": 2,
   "metadata": {},
   "outputs": [],
   "source": [
    "# Get unique node IDs and map to indices\n",
    "unique_nodes = np.unique(np.concatenate((source_nodes, target_nodes)))\n",
    "node_id_to_index = {node_id: idx for idx, node_id in enumerate(unique_nodes)}\n",
    "index_to_node_id = {idx: node_id for node_id, idx in node_id_to_index.items()}\n",
    "\n",
    "# Map node IDs to indices in edge lists\n",
    "source_indices = np.array([node_id_to_index[node_id] for node_id in source_nodes])\n",
    "target_indices = np.array([node_id_to_index[node_id] for node_id in target_nodes])"
   ]
  },
  {
   "cell_type": "code",
   "execution_count": 3,
   "metadata": {},
   "outputs": [],
   "source": [
    "import jax.numpy as jnp\n",
    "import jax\n",
    "from jax import random\n",
    "\n",
    "# Convert to JAX arrays\n",
    "source_indices = jnp.array(source_indices)\n",
    "target_indices = jnp.array(target_indices)\n",
    "edge_weights = jnp.array(edge_weights)\n",
    "\n",
    "# Compute maximum edge weight\n",
    "total_edge_weight = jnp.sum(edge_weights)\n",
    "\n",
    "# Normalize edge weights\n",
    "edge_weights = edge_weights / total_edge_weight\n"
   ]
  },
  {
   "cell_type": "code",
   "execution_count": 4,
   "metadata": {},
   "outputs": [],
   "source": [
    "num_nodes = len(unique_nodes)\n",
    "key = random.PRNGKey(0)\n",
    "positions = random.uniform(key, shape=(num_nodes,))"
   ]
  },
  {
   "cell_type": "code",
   "execution_count": 5,
   "metadata": {},
   "outputs": [
    {
     "name": "stdout",
     "output_type": "stream",
     "text": [
      "Total Forward Edge Weight (Initial): 0.5002518892288208\n",
      "Percentage of Forward Edge Weight (Initial): 50.03%\n"
     ]
    }
   ],
   "source": [
    "\n",
    "sorted_indices = jnp.argsort(positions)\n",
    "\n",
    "# Create a mapping from node index to order in the sequence\n",
    "node_order = jnp.zeros(num_nodes, dtype=int)\n",
    "node_order = node_order.at[sorted_indices].set(jnp.arange(num_nodes))\n",
    "\n",
    "edge_directions = node_order[target_indices] - node_order[source_indices]\n",
    "\n",
    "forward_edges = edge_directions > 0\n",
    "\n",
    "total_forward_weight_initial = jnp.sum(edge_weights * forward_edges)\n",
    "\n",
    "total_edge_weight = jnp.sum(edge_weights)\n",
    "original_total_edge_weights = total_edge_weight\n",
    "# Compute the percentage of forward edge weight\n",
    "percentage_forward_initial = 100 * float(total_forward_weight_initial) / (total_edge_weight)\n",
    "\n",
    "# Print the results\n",
    "print(f\"Total Forward Edge Weight (Initial): {total_forward_weight_initial}\")\n",
    "print(f\"Percentage of Forward Edge Weight (Initial): {percentage_forward_initial:.2f}%\")"
   ]
  },
  {
   "cell_type": "code",
   "execution_count": 6,
   "metadata": {},
   "outputs": [],
   "source": [
    "def normalize_positions(positions):\n",
    "    # Normalize positions to have zero mean and unit variance\n",
    "    mean = jnp.mean(positions)\n",
    "    std = jnp.std(positions) + 1e-8  # Add epsilon to avoid division by zero\n",
    "    positions = (positions - mean) / std\n",
    "    return positions\n",
    "\n",
    "@jax.jit\n",
    "def objective_function(positions, source_indices, target_indices, edge_weights, epoch):\n",
    "    # Get positions of source and target nodes\n",
    "    pos_source = positions[source_indices]\n",
    "    pos_target = positions[target_indices]\n",
    "    \n",
    "    delta = pos_target - pos_source\n",
    "    \n",
    "    beta = 10.0  \n",
    "    sigmoid = safe_sigmoid(beta * delta)\n",
    "    # Compute the weighted sum\n",
    "    total_forward_weight = jnp.sum(edge_weights * sigmoid)\n",
    "    # if epoch % 10 == 0:\n",
    "    #     jax.debug.print(\"Sig{y} | {z} | {q}\", y=jnp.sum(sigmoid), z=jnp.sum(pos_source), q=jnp.sum(pos_target))\n",
    "\n",
    "    return -total_forward_weight\n",
    "\n",
    "def safe_sigmoid(x):\n",
    "\n",
    "    return jnp.where(\n",
    "        x >= 0,\n",
    "        1 / (1 + jnp.exp(-x)),\n",
    "        jnp.exp(x) / (1 + jnp.exp(x))\n",
    "    )\n"
   ]
  },
  {
   "cell_type": "code",
   "execution_count": 7,
   "metadata": {},
   "outputs": [],
   "source": [
    "import jax\n",
    "import optax\n",
    "\n",
    "# Create the gradient function\n",
    "objective_grad = jax.grad(objective_function)\n",
    "\n",
    "# Define the optimizer\n",
    "optimizer = optax.adam(learning_rate=0.01)\n",
    "\n",
    "# Initialize optimizer state\n",
    "opt_state = optimizer.init(positions)"
   ]
  },
  {
   "cell_type": "code",
   "execution_count": 8,
   "metadata": {},
   "outputs": [],
   "source": [
    "def calculate_metric(positions):\n",
    "    # Get final positions\n",
    "    final_positions = positions\n",
    "\n",
    "    # Sort node indices based on positions\n",
    "    sorted_indices = jnp.argsort(final_positions)\n",
    "\n",
    "    # Map back to node IDs\n",
    "    # ordered_node_ids = [index_to_node_id[int(idx)] for idx in sorted_indices]\n",
    "\n",
    "    # Create a mapping from node index to order in the final sequence\n",
    "    node_order = jnp.zeros(num_nodes)\n",
    "    node_order = node_order.at[sorted_indices].set(jnp.arange(num_nodes))\n",
    "\n",
    "    # Compute the direction of each edge in the final ordering\n",
    "    edge_directions = node_order[target_indices] - node_order[source_indices]\n",
    "\n",
    "    # Edges pointing forward have positive edge_directions\n",
    "    forward_edges = edge_directions > 0\n",
    "\n",
    "    # Compute the total forward edge weight\n",
    "    total_forward_weight = jnp.sum(edge_weights * forward_edges)\n",
    "    total_edge_weight = jnp.sum(edge_weights)\n",
    "\n",
    "    print(f\"Total Forward Edge Weight: {total_forward_weight}\")\n",
    "    print(f\"Percentage of Forward Edge Weight: {100 * float(total_forward_weight) / float(total_edge_weight):.2f}%\")"
   ]
  },
  {
   "cell_type": "code",
   "execution_count": 9,
   "metadata": {},
   "outputs": [
    {
     "name": "stderr",
     "output_type": "stream",
     "text": [
      "  0%|          | 0/10000 [00:00<?, ?it/s]\n"
     ]
    },
    {
     "ename": "TracerBoolConversionError",
     "evalue": "Attempted boolean conversion of traced array with shape bool[]..\nThe error occurred while tracing the function objective_function at /var/folders/lh/qs4dckx57_x56y2s1_8blvm80000gq/T/ipykernel_85127/1686088588.py:8 for jit. This concrete value was not available in Python because it depends on the value of the argument epoch.\nSee https://jax.readthedocs.io/en/latest/errors.html#jax.errors.TracerBoolConversionError",
     "output_type": "error",
     "traceback": [
      "\u001b[0;31m---------------------------------------------------------------------------\u001b[0m",
      "\u001b[0;31mTracerBoolConversionError\u001b[0m                 Traceback (most recent call last)",
      "Cell \u001b[0;32mIn[9], line 6\u001b[0m\n\u001b[1;32m      2\u001b[0m num_epochs \u001b[38;5;241m=\u001b[39m \u001b[38;5;241m10000\u001b[39m\n\u001b[1;32m      4\u001b[0m \u001b[38;5;28;01mfor\u001b[39;00m epoch \u001b[38;5;129;01min\u001b[39;00m tqdm(\u001b[38;5;28mrange\u001b[39m(num_epochs)):\n\u001b[1;32m      5\u001b[0m     \u001b[38;5;66;03m# Compute gradients\u001b[39;00m\n\u001b[0;32m----> 6\u001b[0m     loss, grads \u001b[38;5;241m=\u001b[39m \u001b[43mjax\u001b[49m\u001b[38;5;241;43m.\u001b[39;49m\u001b[43mvalue_and_grad\u001b[49m\u001b[43m(\u001b[49m\u001b[43mobjective_function\u001b[49m\u001b[43m)\u001b[49m\u001b[43m(\u001b[49m\u001b[43mpositions\u001b[49m\u001b[43m,\u001b[49m\u001b[43m \u001b[49m\u001b[43msource_indices\u001b[49m\u001b[43m,\u001b[49m\u001b[43m \u001b[49m\u001b[43mtarget_indices\u001b[49m\u001b[43m,\u001b[49m\u001b[43m \u001b[49m\u001b[43medge_weights\u001b[49m\u001b[43m,\u001b[49m\u001b[43m \u001b[49m\u001b[43mepoch\u001b[49m\u001b[43m)\u001b[49m\n\u001b[1;32m      8\u001b[0m     \u001b[38;5;66;03m# Update positions\u001b[39;00m\n\u001b[1;32m      9\u001b[0m     updates, opt_state \u001b[38;5;241m=\u001b[39m optimizer\u001b[38;5;241m.\u001b[39mupdate(grads, opt_state)\n",
      "    \u001b[0;31m[... skipping hidden 19 frame]\u001b[0m\n",
      "Cell \u001b[0;32mIn[6], line 20\u001b[0m, in \u001b[0;36mobjective_function\u001b[0;34m(positions, source_indices, target_indices, edge_weights, epoch)\u001b[0m\n\u001b[1;32m     18\u001b[0m \u001b[38;5;66;03m# Compute the weighted sum\u001b[39;00m\n\u001b[1;32m     19\u001b[0m total_forward_weight \u001b[38;5;241m=\u001b[39m jnp\u001b[38;5;241m.\u001b[39msum(edge_weights \u001b[38;5;241m*\u001b[39m sigmoid)\n\u001b[0;32m---> 20\u001b[0m \u001b[38;5;28;01mif\u001b[39;00m epoch \u001b[38;5;241m%\u001b[39m \u001b[38;5;241m10\u001b[39m \u001b[38;5;241m==\u001b[39m \u001b[38;5;241m0\u001b[39m:\n\u001b[1;32m     21\u001b[0m     jax\u001b[38;5;241m.\u001b[39mdebug\u001b[38;5;241m.\u001b[39mprint(\u001b[38;5;124m\"\u001b[39m\u001b[38;5;124mSig\u001b[39m\u001b[38;5;132;01m{y}\u001b[39;00m\u001b[38;5;124m | \u001b[39m\u001b[38;5;132;01m{z}\u001b[39;00m\u001b[38;5;124m | \u001b[39m\u001b[38;5;132;01m{q}\u001b[39;00m\u001b[38;5;124m\"\u001b[39m, y\u001b[38;5;241m=\u001b[39mjnp\u001b[38;5;241m.\u001b[39msum(sigmoid), z\u001b[38;5;241m=\u001b[39mjnp\u001b[38;5;241m.\u001b[39msum(pos_source), q\u001b[38;5;241m=\u001b[39mjnp\u001b[38;5;241m.\u001b[39msum(pos_target))\n\u001b[1;32m     23\u001b[0m \u001b[38;5;28;01mreturn\u001b[39;00m \u001b[38;5;241m-\u001b[39mtotal_forward_weight\n",
      "    \u001b[0;31m[... skipping hidden 1 frame]\u001b[0m\n",
      "File \u001b[0;32m~/Projects/flywire_reordering/.venv/lib/python3.9/site-packages/jax/_src/core.py:1517\u001b[0m, in \u001b[0;36mconcretization_function_error.<locals>.error\u001b[0;34m(self, arg)\u001b[0m\n\u001b[1;32m   1516\u001b[0m \u001b[38;5;28;01mdef\u001b[39;00m \u001b[38;5;21merror\u001b[39m(\u001b[38;5;28mself\u001b[39m, arg):\n\u001b[0;32m-> 1517\u001b[0m   \u001b[38;5;28;01mraise\u001b[39;00m TracerBoolConversionError(arg)\n",
      "\u001b[0;31mTracerBoolConversionError\u001b[0m: Attempted boolean conversion of traced array with shape bool[]..\nThe error occurred while tracing the function objective_function at /var/folders/lh/qs4dckx57_x56y2s1_8blvm80000gq/T/ipykernel_85127/1686088588.py:8 for jit. This concrete value was not available in Python because it depends on the value of the argument epoch.\nSee https://jax.readthedocs.io/en/latest/errors.html#jax.errors.TracerBoolConversionError"
     ]
    }
   ],
   "source": [
    "from tqdm import tqdm\n",
    "num_epochs = 10000\n",
    "\n",
    "for epoch in tqdm(range(num_epochs)):\n",
    "    # Compute gradients\n",
    "    loss, grads = jax.value_and_grad(objective_function)(positions, source_indices, target_indices, edge_weights, epoch)\n",
    "    \n",
    "    # Update positions\n",
    "    updates, opt_state = optimizer.update(grads, opt_state)\n",
    "    positions = optax.apply_updates(positions, updates)\n",
    "    positions = normalize_positions(positions)\n",
    "    # Optional: Print progress every 100 epochs\n",
    "    if epoch % 100 == 0:\n",
    "        print(f\"Epoch {epoch}, Loss: {-loss}\")\n",
    "        calculate_metric(positions)\n"
   ]
  },
  {
   "cell_type": "code",
   "execution_count": null,
   "metadata": {},
   "outputs": [],
   "source": []
  }
 ],
 "metadata": {
  "kernelspec": {
   "display_name": "Python 3",
   "language": "python",
   "name": "python3"
  },
  "language_info": {
   "codemirror_mode": {
    "name": "ipython",
    "version": 3
   },
   "file_extension": ".py",
   "mimetype": "text/x-python",
   "name": "python",
   "nbconvert_exporter": "python",
   "pygments_lexer": "ipython3",
   "version": "3.9.6"
  }
 },
 "nbformat": 4,
 "nbformat_minor": 2
}
