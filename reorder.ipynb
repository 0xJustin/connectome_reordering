{
 "cells": [
  {
   "cell_type": "code",
   "execution_count": 1,
   "metadata": {},
   "outputs": [],
   "source": [
    "import polars as pl\n",
    "import numpy as np\n",
    "\n",
    "# Load the data\n",
    "df = pl.read_csv('./connectome_graph.csv')\n",
    "\n",
    "# Extract arrays\n",
    "source_nodes = df[df.columns[0]].to_numpy().astype(np.int64)\n",
    "target_nodes = df[df.columns[1]].to_numpy().astype(np.int64)\n",
    "edge_weights = df[df.columns[2]].to_numpy().astype(np.int64)\n"
   ]
  },
  {
   "cell_type": "code",
   "execution_count": 2,
   "metadata": {},
   "outputs": [],
   "source": [
    "# Get unique node IDs and map to indices\n",
    "unique_nodes = np.unique(np.concatenate((source_nodes, target_nodes)))\n",
    "node_id_to_index = {node_id: idx for idx, node_id in enumerate(unique_nodes)}\n",
    "index_to_node_id = {idx: node_id for node_id, idx in node_id_to_index.items()}\n",
    "\n",
    "# Map node IDs to indices in edge lists\n",
    "source_indices = np.array([node_id_to_index[node_id] for node_id in source_nodes])\n",
    "target_indices = np.array([node_id_to_index[node_id] for node_id in target_nodes])"
   ]
  },
  {
   "cell_type": "code",
   "execution_count": 3,
   "metadata": {},
   "outputs": [],
   "source": [
    "import jax.numpy as jnp\n",
    "import jax\n",
    "from jax import random\n",
    "\n",
    "# Convert to JAX arrays\n",
    "source_indices = jnp.array(source_indices)\n",
    "target_indices = jnp.array(target_indices)\n",
    "edge_weights = jnp.array(edge_weights)\n",
    "\n",
    "# Compute maximum edge weight\n",
    "total_edge_weight = jnp.sum(edge_weights)\n",
    "\n",
    "# Normalize edge weights\n",
    "edge_weights = edge_weights / total_edge_weight\n"
   ]
  },
  {
   "cell_type": "code",
   "execution_count": 4,
   "metadata": {},
   "outputs": [],
   "source": [
    "num_nodes = len(unique_nodes)\n",
    "key = random.PRNGKey(0)\n",
    "positions = random.uniform(key, shape=(num_nodes,))"
   ]
  },
  {
   "cell_type": "code",
   "execution_count": 5,
   "metadata": {},
   "outputs": [
    {
     "name": "stdout",
     "output_type": "stream",
     "text": [
      "Total Forward Edge Weight (Initial): 0.5002518892288208\n",
      "Percentage of Forward Edge Weight (Initial): 50.03%\n"
     ]
    }
   ],
   "source": [
    "\n",
    "sorted_indices = jnp.argsort(positions)\n",
    "\n",
    "# Create a mapping from node index to order in the sequence\n",
    "node_order = jnp.zeros(num_nodes, dtype=int)\n",
    "node_order = node_order.at[sorted_indices].set(jnp.arange(num_nodes))\n",
    "\n",
    "edge_directions = node_order[target_indices] - node_order[source_indices]\n",
    "\n",
    "forward_edges = edge_directions > 0\n",
    "\n",
    "total_forward_weight_initial = jnp.sum(edge_weights * forward_edges)\n",
    "\n",
    "total_edge_weight = jnp.sum(edge_weights)\n",
    "original_total_edge_weights = total_edge_weight\n",
    "# Compute the percentage of forward edge weight\n",
    "percentage_forward_initial = 100 * float(total_forward_weight_initial) / (total_edge_weight)\n",
    "\n",
    "# Print the results\n",
    "print(f\"Total Forward Edge Weight (Initial): {total_forward_weight_initial}\")\n",
    "print(f\"Percentage of Forward Edge Weight (Initial): {percentage_forward_initial:.2f}%\")"
   ]
  },
  {
   "cell_type": "code",
   "execution_count": 6,
   "metadata": {},
   "outputs": [],
   "source": [
    "def normalize_positions(positions):\n",
    "    # Normalize positions to have zero mean and unit variance\n",
    "    mean = jnp.mean(positions)\n",
    "    std = jnp.std(positions) + 1e-8  # Add epsilon to avoid division by zero\n",
    "    positions = (positions - mean) / std\n",
    "    return positions\n",
    "\n",
    "@jax.jit\n",
    "def objective_function(positions, source_indices, target_indices, edge_weights, epoch):\n",
    "    # Get positions of source and target nodes\n",
    "    pos_source = positions[source_indices]\n",
    "    pos_target = positions[target_indices]\n",
    "    \n",
    "    delta = pos_target - pos_source\n",
    "    \n",
    "    beta = 2.0  \n",
    "    sigmoid = safe_sigmoid(beta * delta)\n",
    "    # Compute the weighted sum\n",
    "    total_forward_weight = jnp.sum(edge_weights * sigmoid)\n",
    "    # if epoch % 10 == 0:\n",
    "    #     jax.debug.print(\"Sig{y} | {z} | {q}\", y=jnp.sum(sigmoid), z=jnp.sum(pos_source), q=jnp.sum(pos_target))\n",
    "\n",
    "    return -total_forward_weight\n",
    "\n",
    "def safe_sigmoid(x):\n",
    "\n",
    "    return jnp.where(\n",
    "        x >= 0,\n",
    "        1 / (1 + jnp.exp(-x)),\n",
    "        jnp.exp(x) / (1 + jnp.exp(x))\n",
    "    )\n"
   ]
  },
  {
   "cell_type": "code",
   "execution_count": 7,
   "metadata": {},
   "outputs": [],
   "source": [
    "import jax\n",
    "import optax\n",
    "\n",
    "# Create the gradient function\n",
    "objective_grad = jax.grad(objective_function)\n",
    "\n",
    "# Define the optimizer\n",
    "optimizer = optax.adam(learning_rate=0.005)\n",
    "\n",
    "# Initialize optimizer state\n",
    "opt_state = optimizer.init(positions)"
   ]
  },
  {
   "cell_type": "code",
   "execution_count": 8,
   "metadata": {},
   "outputs": [],
   "source": [
    "def calculate_metric(positions):\n",
    "    # Get final positions\n",
    "    final_positions = positions\n",
    "\n",
    "    # Sort node indices based on positions\n",
    "    sorted_indices = jnp.argsort(final_positions)\n",
    "\n",
    "    # Map back to node IDs\n",
    "    # ordered_node_ids = [index_to_node_id[int(idx)] for idx in sorted_indices]\n",
    "\n",
    "    # Create a mapping from node index to order in the final sequence\n",
    "    node_order = jnp.zeros(num_nodes)\n",
    "    node_order = node_order.at[sorted_indices].set(jnp.arange(num_nodes))\n",
    "\n",
    "    # Compute the direction of each edge in the final ordering\n",
    "    edge_directions = node_order[target_indices] - node_order[source_indices]\n",
    "\n",
    "    # Edges pointing forward have positive edge_directions\n",
    "    forward_edges = edge_directions > 0\n",
    "\n",
    "    # Compute the total forward edge weight\n",
    "    total_forward_weight = jnp.sum(edge_weights * forward_edges)\n",
    "    total_edge_weight = jnp.sum(edge_weights)\n",
    "\n",
    "    print(f\"Total Forward Edge Weight: {total_forward_weight}\")\n",
    "    print(f\"Percentage of Forward Edge Weight: {100 * float(total_forward_weight) / float(total_edge_weight):.2f}%\")\n",
    "    return 100 * float(total_forward_weight) / float(total_edge_weight)"
   ]
  },
  {
   "cell_type": "code",
   "execution_count": 9,
   "metadata": {},
   "outputs": [
    {
     "name": "stdout",
     "output_type": "stream",
     "text": [
      "Epoch 0, Loss: 0.5001700520515442\n",
      "Total Forward Edge Weight: 0.5031319856643677\n",
      "Percentage of Forward Edge Weight: 50.31%\n",
      "Epoch 100, Loss: 0.5667829513549805\n",
      "Total Forward Edge Weight: 0.5832952857017517\n",
      "Percentage of Forward Edge Weight: 58.33%\n",
      "Epoch 200, Loss: 0.6246671080589294\n",
      "Total Forward Edge Weight: 0.6540396809577942\n",
      "Percentage of Forward Edge Weight: 65.40%\n",
      "Epoch 300, Loss: 0.6644023656845093\n",
      "Total Forward Edge Weight: 0.708562970161438\n",
      "Percentage of Forward Edge Weight: 70.86%\n",
      "Epoch 400, Loss: 0.6842442750930786\n",
      "Total Forward Edge Weight: 0.7384061813354492\n",
      "Percentage of Forward Edge Weight: 73.84%\n",
      "Epoch 500, Loss: 0.6930047273635864\n",
      "Total Forward Edge Weight: 0.7542293667793274\n",
      "Percentage of Forward Edge Weight: 75.42%\n",
      "Epoch 600, Loss: 0.6966937780380249\n",
      "Total Forward Edge Weight: 0.7612147331237793\n",
      "Percentage of Forward Edge Weight: 76.12%\n",
      "Epoch 700, Loss: 0.69835364818573\n",
      "Total Forward Edge Weight: 0.7648435235023499\n",
      "Percentage of Forward Edge Weight: 76.48%\n",
      "Epoch 800, Loss: 0.6992008686065674\n",
      "Total Forward Edge Weight: 0.7667092084884644\n",
      "Percentage of Forward Edge Weight: 76.67%\n",
      "Epoch 900, Loss: 0.6996555924415588\n",
      "Total Forward Edge Weight: 0.7676609754562378\n",
      "Percentage of Forward Edge Weight: 76.77%\n"
     ]
    }
   ],
   "source": [
    "from tqdm import tqdm\n",
    "num_epochs = 1000\n",
    "\n",
    "for epoch in range(num_epochs):\n",
    "    # Compute gradients\n",
    "    loss, grads = jax.value_and_grad(objective_function)(positions, source_indices, target_indices, edge_weights, epoch)\n",
    "    \n",
    "    # Update positions\n",
    "    updates, opt_state = optimizer.update(grads, opt_state)\n",
    "    positions = optax.apply_updates(positions, updates)\n",
    "    positions = normalize_positions(positions)\n",
    "    # Optional: Print progress every 100 epochs\n",
    "    if epoch % 100 == 0:\n",
    "        print(f\"Epoch {epoch}, Loss: {-loss}\")\n",
    "        calculate_metric(positions)\n"
   ]
  },
  {
   "cell_type": "markdown",
   "metadata": {},
   "source": [
    "# Simulated Annealing"
   ]
  },
  {
   "cell_type": "code",
   "execution_count": 10,
   "metadata": {},
   "outputs": [],
   "source": [
    "import jax\n",
    "import jax.numpy as jnp\n",
    "from jax import random, jit\n",
    "\n",
    "def compute_total_forward_weight(positions, source_indices, target_indices, edge_weights_normalized):\n",
    "    node_order = jnp.argsort(positions)\n",
    "    node_ranks = jnp.zeros_like(node_order)\n",
    "    node_ranks = node_ranks.at[node_order].set(jnp.arange(len(node_order)))\n",
    "    edge_directions = node_ranks[target_indices] - node_ranks[source_indices]\n",
    "    forward_edges = edge_directions > 0\n",
    "    total_forward_weight = jnp.sum(edge_weights_normalized * forward_edges)\n",
    "    return total_forward_weight\n",
    "\n",
    "# Function to swap two nodes (JAX-compatible)\n",
    "def swap_positions(positions, i, j):\n",
    "    positions = positions.at[i].set(positions[j])\n",
    "    positions = positions.at[j].set(positions[i])\n",
    "    return positions\n",
    "\n",
    "# Simulated annealing step function (JAX-compatible)\n",
    "@jit\n",
    "def simulated_annealing_step(i, state):\n",
    "    key, temp, current_positions, current_weight, best_positions, best_weight, source_indices, target_indices, edge_weights_normalized = state\n",
    "\n",
    "    # Generate two random indices to swap\n",
    "    key, subkey = random.split(key)\n",
    "    num_nodes = len(current_positions)\n",
    "    i, j = random.choice(subkey, num_nodes, shape=(2,), replace=False)  # Corrected: use `num_nodes` instead of `current_positions.shape`\n",
    "\n",
    "    new_positions = swap_positions(current_positions, i, j)\n",
    "\n",
    "    # Compute the new forward weight\n",
    "    new_weight = compute_total_forward_weight(new_positions, source_indices, target_indices, edge_weights_normalized)\n",
    "    delta_weight = new_weight - current_weight\n",
    "\n",
    "    # Compute the acceptance probability\n",
    "    accept = jnp.exp(delta_weight / temp)\n",
    "    should_accept = (delta_weight > 0) | (random.uniform(subkey) < accept)\n",
    "\n",
    "    current_positions = jnp.where(should_accept, new_positions, current_positions)\n",
    "    current_weight = jnp.where(should_accept, new_weight, current_weight)\n",
    "\n",
    "    # Update the best solution if the new solution is better\n",
    "    best_positions = jnp.where(new_weight > best_weight, new_positions, best_positions)\n",
    "    best_weight = jnp.where(new_weight > best_weight, new_weight, best_weight)\n",
    "\n",
    "    temp = temp * 0.995\n",
    "\n",
    "    return key, temp, current_positions, current_weight, best_positions, best_weight, source_indices, target_indices, edge_weights_normalized\n",
    "\n",
    "# Simulated annealing loop (JAX-compatible)\n",
    "@jit\n",
    "def simulated_annealing(positions, source_indices, target_indices, edge_weights_normalized, initial_temp=1.0, final_temp=0.001, max_iter=10000):\n",
    "    key = random.PRNGKey(0)\n",
    "\n",
    "    # Initial conditions\n",
    "    current_positions = positions.copy()\n",
    "    current_weight = compute_total_forward_weight(current_positions, source_indices, target_indices, edge_weights_normalized)\n",
    "    best_positions = current_positions.copy()\n",
    "    best_weight = current_weight\n",
    "    temp = initial_temp\n",
    "\n",
    "    # Simulated annealing loop\n",
    "    def body_fn(i, state):\n",
    "        return simulated_annealing_step(i, state)\n",
    "\n",
    "    final_state = jax.lax.fori_loop(0, max_iter, body_fn, (key, temp, current_positions, current_weight, best_positions, best_weight, source_indices, target_indices, edge_weights_normalized))\n",
    "\n",
    "    _, _, _, _, best_positions, best_weight, _, _, _ = final_state\n",
    "    return best_positions, best_weight\n"
   ]
  },
  {
   "cell_type": "code",
   "execution_count": 13,
   "metadata": {},
   "outputs": [
    {
     "name": "stdout",
     "output_type": "stream",
     "text": [
      "Total Forward Edge Weight: 0.7682592272758484\n",
      "Percentage of Forward Edge Weight: 76.83%\n",
      "Best forward edge weight: 0.7682592 Best positions: None\n"
     ]
    }
   ],
   "source": [
    "initial_positions = random.uniform(random.PRNGKey(42), shape=(len(positions),))  # Random initial positions\n",
    "best_positions, best_weight = simulated_annealing(positions, source_indices, target_indices, edge_weights, max_iter=100)\n",
    "\n",
    "print(\"Best forward edge weight:\", best_weight, \"Best positions:\", calculate_metric(best_positions))\n"
   ]
  },
  {
   "cell_type": "code",
   "execution_count": 14,
   "metadata": {},
   "outputs": [
    {
     "data": {
      "text/plain": [
       "Array([ 0.24743298, -1.042535  ,  0.22388445, ..., -0.55253047,\n",
       "        1.9726529 , -1.7673079 ], dtype=float32)"
      ]
     },
     "execution_count": 14,
     "metadata": {},
     "output_type": "execute_result"
    }
   ],
   "source": [
    "best_positions"
   ]
  }
 ],
 "metadata": {
  "kernelspec": {
   "display_name": "Python 3",
   "language": "python",
   "name": "python3"
  },
  "language_info": {
   "codemirror_mode": {
    "name": "ipython",
    "version": 3
   },
   "file_extension": ".py",
   "mimetype": "text/x-python",
   "name": "python",
   "nbconvert_exporter": "python",
   "pygments_lexer": "ipython3",
   "version": "3.9.6"
  }
 },
 "nbformat": 4,
 "nbformat_minor": 2
}
